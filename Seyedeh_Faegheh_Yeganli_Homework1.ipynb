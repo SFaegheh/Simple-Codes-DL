{
  "nbformat": 4,
  "nbformat_minor": 0,
  "metadata": {
    "colab": {
      "name": "Seyedeh-Faegheh-Yeganli-Homework1.ipynb",
      "provenance": [],
      "collapsed_sections": [],
      "authorship_tag": "ABX9TyMntjEXeFjtooHHT+6B9CdC",
      "include_colab_link": true
    },
    "kernelspec": {
      "name": "python3",
      "display_name": "Python 3"
    },
    "language_info": {
      "name": "python"
    },
    "accelerator": "GPU"
  },
  "cells": [
    {
      "cell_type": "markdown",
      "metadata": {
        "id": "view-in-github",
        "colab_type": "text"
      },
      "source": [
        "<a href=\"https://colab.research.google.com/github/SFaegheh/Simple-Codes-DL/blob/main/Seyedeh_Faegheh_Yeganli_Homework1.ipynb\" target=\"_parent\"><img src=\"https://colab.research.google.com/assets/colab-badge.svg\" alt=\"Open In Colab\"/></a>"
      ]
    },
    {
      "cell_type": "code",
      "metadata": {
        "id": "PFR4SGAV8n_f"
      },
      "source": [
        "# A simple Neural Network for Iris Classification"
      ],
      "execution_count": 74,
      "outputs": []
    },
    {
      "cell_type": "code",
      "metadata": {
        "colab": {
          "base_uri": "https://localhost:8080/"
        },
        "id": "g4TQF7vlRzOi",
        "outputId": "7323af61-92f4-498a-9605-99e1cae37b9e"
      },
      "source": [
        "from google.colab import drive\n",
        "drive.mount('/content/drive')"
      ],
      "execution_count": 75,
      "outputs": [
        {
          "output_type": "stream",
          "text": [
            "Drive already mounted at /content/drive; to attempt to forcibly remount, call drive.mount(\"/content/drive\", force_remount=True).\n"
          ],
          "name": "stdout"
        }
      ]
    },
    {
      "cell_type": "code",
      "metadata": {
        "id": "Zf7EaHhBSR8Z"
      },
      "source": [
        "import numpy as np\n",
        "from tensorflow import keras\n",
        "from sklearn.datasets import load_iris\n",
        "from sklearn.model_selection import train_test_split\n",
        "from keras.models import Sequential\n",
        "from keras.layers import Dense, Dropout\n",
        "from keras.optimizers import Adam\n",
        "from sklearn.preprocessing import OneHotEncoder\n"
      ],
      "execution_count": 76,
      "outputs": []
    },
    {
      "cell_type": "code",
      "metadata": {
        "id": "4LMju_JmSUae"
      },
      "source": [
        "iris_data = load_iris() # load the iris dataset\n",
        "x = iris_data.data\n",
        "y = iris_data.target.reshape(-1, 1) # Convert data to a single column"
      ],
      "execution_count": 77,
      "outputs": []
    },
    {
      "cell_type": "code",
      "metadata": {
        "colab": {
          "base_uri": "https://localhost:8080/"
        },
        "id": "BbWnVWcbSjfH",
        "outputId": "57cee4a1-3727-4338-9a34-f9c9f6048a91"
      },
      "source": [
        "print(x.shape)\n",
        "print(y.shape)"
      ],
      "execution_count": 78,
      "outputs": [
        {
          "output_type": "stream",
          "text": [
            "(150, 4)\n",
            "(150, 1)\n"
          ],
          "name": "stdout"
        }
      ]
    },
    {
      "cell_type": "code",
      "metadata": {
        "id": "60zyJpPqTKd8"
      },
      "source": [
        "encoder = OneHotEncoder(sparse=False)\n",
        "y = encoder.fit_transform(y)"
      ],
      "execution_count": 79,
      "outputs": []
    },
    {
      "cell_type": "code",
      "metadata": {
        "id": "EFenSWfBUH1E"
      },
      "source": [
        "train_x, test_x, train_y, test_y = train_test_split(x, y, test_size=0.20)"
      ],
      "execution_count": 80,
      "outputs": []
    },
    {
      "cell_type": "code",
      "metadata": {
        "colab": {
          "base_uri": "https://localhost:8080/"
        },
        "id": "04Y6Gra_5Kh3",
        "outputId": "2f5f3c6c-df40-44a8-ba64-cfccb6599853"
      },
      "source": [
        "print(train_x.shape)\n",
        "print(train_y.shape)\n",
        "print(test_x.shape)\n",
        "print(test_y.shape)"
      ],
      "execution_count": 81,
      "outputs": [
        {
          "output_type": "stream",
          "text": [
            "(120, 4)\n",
            "(120, 3)\n",
            "(30, 4)\n",
            "(30, 3)\n"
          ],
          "name": "stdout"
        }
      ]
    },
    {
      "cell_type": "code",
      "metadata": {
        "id": "cYo1j1p9UPzc"
      },
      "source": [
        "model = Sequential()\n",
        "model.add(Dense(10, input_shape=(4,), activation='relu'))\n",
        "model.add(Dense(10, activation='relu'))\n",
        "model.add(Dropout(0.5))\n",
        "model.add(Dense(3, activation='softmax'))"
      ],
      "execution_count": 82,
      "outputs": []
    },
    {
      "cell_type": "code",
      "metadata": {
        "colab": {
          "base_uri": "https://localhost:8080/"
        },
        "id": "ohbiPe2E6Bpn",
        "outputId": "f8f1a8c6-9eff-4e18-c839-68be27c2e716"
      },
      "source": [
        "model.summary()"
      ],
      "execution_count": 83,
      "outputs": [
        {
          "output_type": "stream",
          "text": [
            "Model: \"sequential_5\"\n",
            "_________________________________________________________________\n",
            "Layer (type)                 Output Shape              Param #   \n",
            "=================================================================\n",
            "dense_12 (Dense)             (None, 10)                50        \n",
            "_________________________________________________________________\n",
            "dense_13 (Dense)             (None, 10)                110       \n",
            "_________________________________________________________________\n",
            "dropout_5 (Dropout)          (None, 10)                0         \n",
            "_________________________________________________________________\n",
            "dense_14 (Dense)             (None, 3)                 33        \n",
            "=================================================================\n",
            "Total params: 193\n",
            "Trainable params: 193\n",
            "Non-trainable params: 0\n",
            "_________________________________________________________________\n"
          ],
          "name": "stdout"
        }
      ]
    },
    {
      "cell_type": "code",
      "metadata": {
        "id": "KQsIaXq26Ivo"
      },
      "source": [
        "model.compile(loss='categorical_crossentropy',\n",
        "              optimizer='adam',\n",
        "              metrics=['accuracy'])"
      ],
      "execution_count": 84,
      "outputs": []
    },
    {
      "cell_type": "code",
      "metadata": {
        "colab": {
          "base_uri": "https://localhost:8080/"
        },
        "id": "a9OT0eJx6PCp",
        "outputId": "cf2d05a3-a204-439e-d229-f1855a45da51"
      },
      "source": [
        "history = model.fit(train_x, train_y, epochs=200)"
      ],
      "execution_count": 85,
      "outputs": [
        {
          "output_type": "stream",
          "text": [
            "Epoch 1/200\n",
            "4/4 [==============================] - 1s 3ms/step - loss: 3.1780 - accuracy: 0.3073\n",
            "Epoch 2/200\n",
            "4/4 [==============================] - 0s 3ms/step - loss: 3.2648 - accuracy: 0.2812\n",
            "Epoch 3/200\n",
            "4/4 [==============================] - 0s 3ms/step - loss: 2.4271 - accuracy: 0.2742\n",
            "Epoch 4/200\n",
            "4/4 [==============================] - 0s 3ms/step - loss: 2.8594 - accuracy: 0.3269\n",
            "Epoch 5/200\n",
            "4/4 [==============================] - 0s 3ms/step - loss: 2.3665 - accuracy: 0.3683\n",
            "Epoch 6/200\n",
            "4/4 [==============================] - 0s 3ms/step - loss: 2.2664 - accuracy: 0.2977\n",
            "Epoch 7/200\n",
            "4/4 [==============================] - 0s 3ms/step - loss: 2.2169 - accuracy: 0.2431\n",
            "Epoch 8/200\n",
            "4/4 [==============================] - 0s 3ms/step - loss: 2.0867 - accuracy: 0.2865\n",
            "Epoch 9/200\n",
            "4/4 [==============================] - 0s 3ms/step - loss: 2.0668 - accuracy: 0.2577\n",
            "Epoch 10/200\n",
            "4/4 [==============================] - 0s 3ms/step - loss: 1.7525 - accuracy: 0.3144\n",
            "Epoch 11/200\n",
            "4/4 [==============================] - 0s 3ms/step - loss: 1.7425 - accuracy: 0.2342\n",
            "Epoch 12/200\n",
            "4/4 [==============================] - 0s 3ms/step - loss: 1.7146 - accuracy: 0.2710\n",
            "Epoch 13/200\n",
            "4/4 [==============================] - 0s 3ms/step - loss: 1.7783 - accuracy: 0.3329\n",
            "Epoch 14/200\n",
            "4/4 [==============================] - 0s 4ms/step - loss: 1.5112 - accuracy: 0.2565\n",
            "Epoch 15/200\n",
            "4/4 [==============================] - 0s 3ms/step - loss: 1.4397 - accuracy: 0.3223\n",
            "Epoch 16/200\n",
            "4/4 [==============================] - 0s 3ms/step - loss: 1.4130 - accuracy: 0.2512\n",
            "Epoch 17/200\n",
            "4/4 [==============================] - 0s 4ms/step - loss: 1.3797 - accuracy: 0.2525\n",
            "Epoch 18/200\n",
            "4/4 [==============================] - 0s 4ms/step - loss: 1.3922 - accuracy: 0.2333\n",
            "Epoch 19/200\n",
            "4/4 [==============================] - 0s 3ms/step - loss: 1.2925 - accuracy: 0.3133\n",
            "Epoch 20/200\n",
            "4/4 [==============================] - 0s 3ms/step - loss: 1.2798 - accuracy: 0.3096\n",
            "Epoch 21/200\n",
            "4/4 [==============================] - 0s 4ms/step - loss: 1.2979 - accuracy: 0.2437\n",
            "Epoch 22/200\n",
            "4/4 [==============================] - 0s 4ms/step - loss: 1.2750 - accuracy: 0.3119\n",
            "Epoch 23/200\n",
            "4/4 [==============================] - 0s 3ms/step - loss: 1.2404 - accuracy: 0.2921\n",
            "Epoch 24/200\n",
            "4/4 [==============================] - 0s 3ms/step - loss: 1.1711 - accuracy: 0.3773\n",
            "Epoch 25/200\n",
            "4/4 [==============================] - 0s 3ms/step - loss: 1.1218 - accuracy: 0.4458\n",
            "Epoch 26/200\n",
            "4/4 [==============================] - 0s 3ms/step - loss: 1.1647 - accuracy: 0.3840\n",
            "Epoch 27/200\n",
            "4/4 [==============================] - 0s 3ms/step - loss: 1.1402 - accuracy: 0.4067\n",
            "Epoch 28/200\n",
            "4/4 [==============================] - 0s 4ms/step - loss: 1.1235 - accuracy: 0.4181\n",
            "Epoch 29/200\n",
            "4/4 [==============================] - 0s 3ms/step - loss: 1.0885 - accuracy: 0.4467\n",
            "Epoch 30/200\n",
            "4/4 [==============================] - 0s 4ms/step - loss: 1.1158 - accuracy: 0.4196\n",
            "Epoch 31/200\n",
            "4/4 [==============================] - 0s 3ms/step - loss: 1.0728 - accuracy: 0.4165\n",
            "Epoch 32/200\n",
            "4/4 [==============================] - 0s 3ms/step - loss: 1.0130 - accuracy: 0.5100\n",
            "Epoch 33/200\n",
            "4/4 [==============================] - 0s 3ms/step - loss: 0.9736 - accuracy: 0.5298\n",
            "Epoch 34/200\n",
            "4/4 [==============================] - 0s 3ms/step - loss: 1.0637 - accuracy: 0.4331\n",
            "Epoch 35/200\n",
            "4/4 [==============================] - 0s 4ms/step - loss: 1.0021 - accuracy: 0.4523\n",
            "Epoch 36/200\n",
            "4/4 [==============================] - 0s 6ms/step - loss: 1.0014 - accuracy: 0.5052\n",
            "Epoch 37/200\n",
            "4/4 [==============================] - 0s 3ms/step - loss: 1.0121 - accuracy: 0.4975\n",
            "Epoch 38/200\n",
            "4/4 [==============================] - 0s 3ms/step - loss: 0.9589 - accuracy: 0.5867\n",
            "Epoch 39/200\n",
            "4/4 [==============================] - 0s 4ms/step - loss: 0.9991 - accuracy: 0.5035\n",
            "Epoch 40/200\n",
            "4/4 [==============================] - 0s 3ms/step - loss: 0.9810 - accuracy: 0.5544\n",
            "Epoch 41/200\n",
            "4/4 [==============================] - 0s 3ms/step - loss: 0.9660 - accuracy: 0.5740\n",
            "Epoch 42/200\n",
            "4/4 [==============================] - 0s 3ms/step - loss: 0.9700 - accuracy: 0.5648\n",
            "Epoch 43/200\n",
            "4/4 [==============================] - 0s 3ms/step - loss: 0.9426 - accuracy: 0.6642\n",
            "Epoch 44/200\n",
            "4/4 [==============================] - 0s 3ms/step - loss: 0.9216 - accuracy: 0.6567\n",
            "Epoch 45/200\n",
            "4/4 [==============================] - 0s 5ms/step - loss: 0.9047 - accuracy: 0.6833\n",
            "Epoch 46/200\n",
            "4/4 [==============================] - 0s 4ms/step - loss: 0.9185 - accuracy: 0.6596\n",
            "Epoch 47/200\n",
            "4/4 [==============================] - 0s 3ms/step - loss: 0.9507 - accuracy: 0.5487\n",
            "Epoch 48/200\n",
            "4/4 [==============================] - 0s 3ms/step - loss: 0.9069 - accuracy: 0.5815\n",
            "Epoch 49/200\n",
            "4/4 [==============================] - 0s 3ms/step - loss: 0.8639 - accuracy: 0.6358\n",
            "Epoch 50/200\n",
            "4/4 [==============================] - 0s 3ms/step - loss: 0.8819 - accuracy: 0.6569\n",
            "Epoch 51/200\n",
            "4/4 [==============================] - 0s 3ms/step - loss: 0.8894 - accuracy: 0.6262\n",
            "Epoch 52/200\n",
            "4/4 [==============================] - 0s 4ms/step - loss: 0.8672 - accuracy: 0.6758\n",
            "Epoch 53/200\n",
            "4/4 [==============================] - 0s 4ms/step - loss: 0.8287 - accuracy: 0.7204\n",
            "Epoch 54/200\n",
            "4/4 [==============================] - 0s 4ms/step - loss: 0.8921 - accuracy: 0.6115\n",
            "Epoch 55/200\n",
            "4/4 [==============================] - 0s 3ms/step - loss: 0.8358 - accuracy: 0.6892\n",
            "Epoch 56/200\n",
            "4/4 [==============================] - 0s 4ms/step - loss: 0.7773 - accuracy: 0.7808\n",
            "Epoch 57/200\n",
            "4/4 [==============================] - 0s 3ms/step - loss: 0.8086 - accuracy: 0.7048\n",
            "Epoch 58/200\n",
            "4/4 [==============================] - 0s 3ms/step - loss: 0.8392 - accuracy: 0.6735\n",
            "Epoch 59/200\n",
            "4/4 [==============================] - 0s 4ms/step - loss: 0.8729 - accuracy: 0.5992\n",
            "Epoch 60/200\n",
            "4/4 [==============================] - 0s 4ms/step - loss: 0.7637 - accuracy: 0.7512\n",
            "Epoch 61/200\n",
            "4/4 [==============================] - 0s 3ms/step - loss: 0.7876 - accuracy: 0.7185\n",
            "Epoch 62/200\n",
            "4/4 [==============================] - 0s 3ms/step - loss: 0.7968 - accuracy: 0.6727\n",
            "Epoch 63/200\n",
            "4/4 [==============================] - 0s 3ms/step - loss: 0.7600 - accuracy: 0.7183\n",
            "Epoch 64/200\n",
            "4/4 [==============================] - 0s 3ms/step - loss: 0.8066 - accuracy: 0.6308\n",
            "Epoch 65/200\n",
            "4/4 [==============================] - 0s 3ms/step - loss: 0.7195 - accuracy: 0.7608\n",
            "Epoch 66/200\n",
            "4/4 [==============================] - 0s 3ms/step - loss: 0.7979 - accuracy: 0.6937\n",
            "Epoch 67/200\n",
            "4/4 [==============================] - 0s 3ms/step - loss: 0.7517 - accuracy: 0.6262\n",
            "Epoch 68/200\n",
            "4/4 [==============================] - 0s 4ms/step - loss: 0.7469 - accuracy: 0.7400\n",
            "Epoch 69/200\n",
            "4/4 [==============================] - 0s 3ms/step - loss: 0.7529 - accuracy: 0.7158\n",
            "Epoch 70/200\n",
            "4/4 [==============================] - 0s 3ms/step - loss: 0.7483 - accuracy: 0.7260\n",
            "Epoch 71/200\n",
            "4/4 [==============================] - 0s 3ms/step - loss: 0.7235 - accuracy: 0.6940\n",
            "Epoch 72/200\n",
            "4/4 [==============================] - 0s 4ms/step - loss: 0.7389 - accuracy: 0.6513\n",
            "Epoch 73/200\n",
            "4/4 [==============================] - 0s 3ms/step - loss: 0.7489 - accuracy: 0.6369\n",
            "Epoch 74/200\n",
            "4/4 [==============================] - 0s 4ms/step - loss: 0.6819 - accuracy: 0.7469\n",
            "Epoch 75/200\n",
            "4/4 [==============================] - 0s 3ms/step - loss: 0.6638 - accuracy: 0.8275\n",
            "Epoch 76/200\n",
            "4/4 [==============================] - 0s 4ms/step - loss: 0.7060 - accuracy: 0.7696\n",
            "Epoch 77/200\n",
            "4/4 [==============================] - 0s 5ms/step - loss: 0.7042 - accuracy: 0.6571\n",
            "Epoch 78/200\n",
            "4/4 [==============================] - 0s 3ms/step - loss: 0.6718 - accuracy: 0.8160\n",
            "Epoch 79/200\n",
            "4/4 [==============================] - 0s 3ms/step - loss: 0.6406 - accuracy: 0.7815\n",
            "Epoch 80/200\n",
            "4/4 [==============================] - 0s 3ms/step - loss: 0.7495 - accuracy: 0.7000\n",
            "Epoch 81/200\n",
            "4/4 [==============================] - 0s 5ms/step - loss: 0.6662 - accuracy: 0.7433\n",
            "Epoch 82/200\n",
            "4/4 [==============================] - 0s 4ms/step - loss: 0.6597 - accuracy: 0.7923\n",
            "Epoch 83/200\n",
            "4/4 [==============================] - 0s 4ms/step - loss: 0.6831 - accuracy: 0.7175\n",
            "Epoch 84/200\n",
            "4/4 [==============================] - 0s 3ms/step - loss: 0.6727 - accuracy: 0.7500\n",
            "Epoch 85/200\n",
            "4/4 [==============================] - 0s 3ms/step - loss: 0.5952 - accuracy: 0.8410\n",
            "Epoch 86/200\n",
            "4/4 [==============================] - 0s 3ms/step - loss: 0.6275 - accuracy: 0.7627\n",
            "Epoch 87/200\n",
            "4/4 [==============================] - 0s 5ms/step - loss: 0.6226 - accuracy: 0.7760\n",
            "Epoch 88/200\n",
            "4/4 [==============================] - 0s 3ms/step - loss: 0.6262 - accuracy: 0.8062\n",
            "Epoch 89/200\n",
            "4/4 [==============================] - 0s 5ms/step - loss: 0.6256 - accuracy: 0.8190\n",
            "Epoch 90/200\n",
            "4/4 [==============================] - 0s 3ms/step - loss: 0.5787 - accuracy: 0.8060\n",
            "Epoch 91/200\n",
            "4/4 [==============================] - 0s 3ms/step - loss: 0.6119 - accuracy: 0.7840\n",
            "Epoch 92/200\n",
            "4/4 [==============================] - 0s 3ms/step - loss: 0.6444 - accuracy: 0.7469\n",
            "Epoch 93/200\n",
            "4/4 [==============================] - 0s 4ms/step - loss: 0.6269 - accuracy: 0.7802\n",
            "Epoch 94/200\n",
            "4/4 [==============================] - 0s 3ms/step - loss: 0.5737 - accuracy: 0.8362\n",
            "Epoch 95/200\n",
            "4/4 [==============================] - 0s 5ms/step - loss: 0.5769 - accuracy: 0.8179\n",
            "Epoch 96/200\n",
            "4/4 [==============================] - 0s 3ms/step - loss: 0.6049 - accuracy: 0.7387\n",
            "Epoch 97/200\n",
            "4/4 [==============================] - 0s 3ms/step - loss: 0.6118 - accuracy: 0.7652\n",
            "Epoch 98/200\n",
            "4/4 [==============================] - 0s 6ms/step - loss: 0.6188 - accuracy: 0.7321\n",
            "Epoch 99/200\n",
            "4/4 [==============================] - 0s 3ms/step - loss: 0.5624 - accuracy: 0.8119\n",
            "Epoch 100/200\n",
            "4/4 [==============================] - 0s 3ms/step - loss: 0.5449 - accuracy: 0.8010\n",
            "Epoch 101/200\n",
            "4/4 [==============================] - 0s 4ms/step - loss: 0.6164 - accuracy: 0.7492\n",
            "Epoch 102/200\n",
            "4/4 [==============================] - 0s 3ms/step - loss: 0.5847 - accuracy: 0.7177\n",
            "Epoch 103/200\n",
            "4/4 [==============================] - 0s 5ms/step - loss: 0.5110 - accuracy: 0.8192\n",
            "Epoch 104/200\n",
            "4/4 [==============================] - 0s 3ms/step - loss: 0.6319 - accuracy: 0.7129\n",
            "Epoch 105/200\n",
            "4/4 [==============================] - 0s 3ms/step - loss: 0.6105 - accuracy: 0.7833\n",
            "Epoch 106/200\n",
            "4/4 [==============================] - 0s 3ms/step - loss: 0.5351 - accuracy: 0.7706\n",
            "Epoch 107/200\n",
            "4/4 [==============================] - 0s 3ms/step - loss: 0.5055 - accuracy: 0.8148\n",
            "Epoch 108/200\n",
            "4/4 [==============================] - 0s 6ms/step - loss: 0.5939 - accuracy: 0.7794\n",
            "Epoch 109/200\n",
            "4/4 [==============================] - 0s 4ms/step - loss: 0.5182 - accuracy: 0.8265\n",
            "Epoch 110/200\n",
            "4/4 [==============================] - 0s 4ms/step - loss: 0.5248 - accuracy: 0.8252\n",
            "Epoch 111/200\n",
            "4/4 [==============================] - 0s 4ms/step - loss: 0.4594 - accuracy: 0.8567\n",
            "Epoch 112/200\n",
            "4/4 [==============================] - 0s 4ms/step - loss: 0.5516 - accuracy: 0.8090\n",
            "Epoch 113/200\n",
            "4/4 [==============================] - 0s 4ms/step - loss: 0.5687 - accuracy: 0.8183\n",
            "Epoch 114/200\n",
            "4/4 [==============================] - 0s 5ms/step - loss: 0.5108 - accuracy: 0.8433\n",
            "Epoch 115/200\n",
            "4/4 [==============================] - 0s 4ms/step - loss: 0.5647 - accuracy: 0.7610\n",
            "Epoch 116/200\n",
            "4/4 [==============================] - 0s 4ms/step - loss: 0.5590 - accuracy: 0.8425\n",
            "Epoch 117/200\n",
            "4/4 [==============================] - 0s 3ms/step - loss: 0.4574 - accuracy: 0.8642\n",
            "Epoch 118/200\n",
            "4/4 [==============================] - 0s 4ms/step - loss: 0.5521 - accuracy: 0.7890\n",
            "Epoch 119/200\n",
            "4/4 [==============================] - 0s 4ms/step - loss: 0.5292 - accuracy: 0.8129\n",
            "Epoch 120/200\n",
            "4/4 [==============================] - 0s 4ms/step - loss: 0.4138 - accuracy: 0.8777\n",
            "Epoch 121/200\n",
            "4/4 [==============================] - 0s 4ms/step - loss: 0.4626 - accuracy: 0.8525\n",
            "Epoch 122/200\n",
            "4/4 [==============================] - 0s 4ms/step - loss: 0.4503 - accuracy: 0.8490\n",
            "Epoch 123/200\n",
            "4/4 [==============================] - 0s 3ms/step - loss: 0.5464 - accuracy: 0.7921\n",
            "Epoch 124/200\n",
            "4/4 [==============================] - 0s 4ms/step - loss: 0.5859 - accuracy: 0.7769\n",
            "Epoch 125/200\n",
            "4/4 [==============================] - 0s 4ms/step - loss: 0.5257 - accuracy: 0.8171\n",
            "Epoch 126/200\n",
            "4/4 [==============================] - 0s 3ms/step - loss: 0.5417 - accuracy: 0.7748\n",
            "Epoch 127/200\n",
            "4/4 [==============================] - 0s 4ms/step - loss: 0.4815 - accuracy: 0.8100\n",
            "Epoch 128/200\n",
            "4/4 [==============================] - 0s 4ms/step - loss: 0.5129 - accuracy: 0.8038\n",
            "Epoch 129/200\n",
            "4/4 [==============================] - 0s 4ms/step - loss: 0.5664 - accuracy: 0.7583\n",
            "Epoch 130/200\n",
            "4/4 [==============================] - 0s 3ms/step - loss: 0.4873 - accuracy: 0.8229\n",
            "Epoch 131/200\n",
            "4/4 [==============================] - 0s 4ms/step - loss: 0.5144 - accuracy: 0.8652\n",
            "Epoch 132/200\n",
            "4/4 [==============================] - 0s 3ms/step - loss: 0.4857 - accuracy: 0.8390\n",
            "Epoch 133/200\n",
            "4/4 [==============================] - 0s 4ms/step - loss: 0.4769 - accuracy: 0.8217\n",
            "Epoch 134/200\n",
            "4/4 [==============================] - 0s 5ms/step - loss: 0.4502 - accuracy: 0.8877\n",
            "Epoch 135/200\n",
            "4/4 [==============================] - 0s 3ms/step - loss: 0.4563 - accuracy: 0.8654\n",
            "Epoch 136/200\n",
            "4/4 [==============================] - 0s 4ms/step - loss: 0.4622 - accuracy: 0.8758\n",
            "Epoch 137/200\n",
            "4/4 [==============================] - 0s 4ms/step - loss: 0.4800 - accuracy: 0.7971\n",
            "Epoch 138/200\n",
            "4/4 [==============================] - 0s 6ms/step - loss: 0.5001 - accuracy: 0.8429\n",
            "Epoch 139/200\n",
            "4/4 [==============================] - 0s 7ms/step - loss: 0.4652 - accuracy: 0.8677\n",
            "Epoch 140/200\n",
            "4/4 [==============================] - 0s 4ms/step - loss: 0.4674 - accuracy: 0.8394\n",
            "Epoch 141/200\n",
            "4/4 [==============================] - 0s 3ms/step - loss: 0.4411 - accuracy: 0.8994\n",
            "Epoch 142/200\n",
            "4/4 [==============================] - 0s 3ms/step - loss: 0.4081 - accuracy: 0.8894\n",
            "Epoch 143/200\n",
            "4/4 [==============================] - 0s 3ms/step - loss: 0.4268 - accuracy: 0.8402\n",
            "Epoch 144/200\n",
            "4/4 [==============================] - 0s 4ms/step - loss: 0.4437 - accuracy: 0.9040\n",
            "Epoch 145/200\n",
            "4/4 [==============================] - 0s 4ms/step - loss: 0.3941 - accuracy: 0.8846\n",
            "Epoch 146/200\n",
            "4/4 [==============================] - 0s 3ms/step - loss: 0.4684 - accuracy: 0.8594\n",
            "Epoch 147/200\n",
            "4/4 [==============================] - 0s 4ms/step - loss: 0.5586 - accuracy: 0.7904\n",
            "Epoch 148/200\n",
            "4/4 [==============================] - 0s 3ms/step - loss: 0.4545 - accuracy: 0.8325\n",
            "Epoch 149/200\n",
            "4/4 [==============================] - 0s 3ms/step - loss: 0.4619 - accuracy: 0.8656\n",
            "Epoch 150/200\n",
            "4/4 [==============================] - 0s 4ms/step - loss: 0.4193 - accuracy: 0.8473\n",
            "Epoch 151/200\n",
            "4/4 [==============================] - 0s 3ms/step - loss: 0.4889 - accuracy: 0.8104\n",
            "Epoch 152/200\n",
            "4/4 [==============================] - 0s 4ms/step - loss: 0.4881 - accuracy: 0.8377\n",
            "Epoch 153/200\n",
            "4/4 [==============================] - 0s 3ms/step - loss: 0.4464 - accuracy: 0.8510\n",
            "Epoch 154/200\n",
            "4/4 [==============================] - 0s 3ms/step - loss: 0.4672 - accuracy: 0.8577\n",
            "Epoch 155/200\n",
            "4/4 [==============================] - 0s 3ms/step - loss: 0.5081 - accuracy: 0.8337\n",
            "Epoch 156/200\n",
            "4/4 [==============================] - 0s 3ms/step - loss: 0.5130 - accuracy: 0.7731\n",
            "Epoch 157/200\n",
            "4/4 [==============================] - 0s 4ms/step - loss: 0.4723 - accuracy: 0.8871\n",
            "Epoch 158/200\n",
            "4/4 [==============================] - 0s 3ms/step - loss: 0.4339 - accuracy: 0.8627\n",
            "Epoch 159/200\n",
            "4/4 [==============================] - 0s 3ms/step - loss: 0.4811 - accuracy: 0.8312\n",
            "Epoch 160/200\n",
            "4/4 [==============================] - 0s 3ms/step - loss: 0.4062 - accuracy: 0.8712\n",
            "Epoch 161/200\n",
            "4/4 [==============================] - 0s 4ms/step - loss: 0.4695 - accuracy: 0.8881\n",
            "Epoch 162/200\n",
            "4/4 [==============================] - 0s 4ms/step - loss: 0.4658 - accuracy: 0.8535\n",
            "Epoch 163/200\n",
            "4/4 [==============================] - 0s 4ms/step - loss: 0.3508 - accuracy: 0.9154\n",
            "Epoch 164/200\n",
            "4/4 [==============================] - 0s 3ms/step - loss: 0.3659 - accuracy: 0.8856\n",
            "Epoch 165/200\n",
            "4/4 [==============================] - 0s 4ms/step - loss: 0.4726 - accuracy: 0.8425\n",
            "Epoch 166/200\n",
            "4/4 [==============================] - 0s 3ms/step - loss: 0.4651 - accuracy: 0.8679\n",
            "Epoch 167/200\n",
            "4/4 [==============================] - 0s 4ms/step - loss: 0.4307 - accuracy: 0.8827\n",
            "Epoch 168/200\n",
            "4/4 [==============================] - 0s 6ms/step - loss: 0.4372 - accuracy: 0.9121\n",
            "Epoch 169/200\n",
            "4/4 [==============================] - 0s 5ms/step - loss: 0.3824 - accuracy: 0.9113\n",
            "Epoch 170/200\n",
            "4/4 [==============================] - 0s 4ms/step - loss: 0.4339 - accuracy: 0.8319\n",
            "Epoch 171/200\n",
            "4/4 [==============================] - 0s 4ms/step - loss: 0.4445 - accuracy: 0.8517\n",
            "Epoch 172/200\n",
            "4/4 [==============================] - 0s 4ms/step - loss: 0.4403 - accuracy: 0.8456\n",
            "Epoch 173/200\n",
            "4/4 [==============================] - 0s 3ms/step - loss: 0.3563 - accuracy: 0.8833\n",
            "Epoch 174/200\n",
            "4/4 [==============================] - 0s 4ms/step - loss: 0.4522 - accuracy: 0.8848\n",
            "Epoch 175/200\n",
            "4/4 [==============================] - 0s 4ms/step - loss: 0.3381 - accuracy: 0.8996\n",
            "Epoch 176/200\n",
            "4/4 [==============================] - 0s 4ms/step - loss: 0.4172 - accuracy: 0.8977\n",
            "Epoch 177/200\n",
            "4/4 [==============================] - 0s 3ms/step - loss: 0.3551 - accuracy: 0.9219\n",
            "Epoch 178/200\n",
            "4/4 [==============================] - 0s 3ms/step - loss: 0.4076 - accuracy: 0.8887\n",
            "Epoch 179/200\n",
            "4/4 [==============================] - 0s 5ms/step - loss: 0.3585 - accuracy: 0.9300\n",
            "Epoch 180/200\n",
            "4/4 [==============================] - 0s 4ms/step - loss: 0.4023 - accuracy: 0.8665\n",
            "Epoch 181/200\n",
            "4/4 [==============================] - 0s 3ms/step - loss: 0.4175 - accuracy: 0.8658\n",
            "Epoch 182/200\n",
            "4/4 [==============================] - 0s 4ms/step - loss: 0.4015 - accuracy: 0.8910\n",
            "Epoch 183/200\n",
            "4/4 [==============================] - 0s 4ms/step - loss: 0.4178 - accuracy: 0.8727\n",
            "Epoch 184/200\n",
            "4/4 [==============================] - 0s 4ms/step - loss: 0.3256 - accuracy: 0.9171\n",
            "Epoch 185/200\n",
            "4/4 [==============================] - 0s 4ms/step - loss: 0.3465 - accuracy: 0.9367\n",
            "Epoch 186/200\n",
            "4/4 [==============================] - 0s 4ms/step - loss: 0.4441 - accuracy: 0.8335\n",
            "Epoch 187/200\n",
            "4/4 [==============================] - 0s 4ms/step - loss: 0.3930 - accuracy: 0.8485\n",
            "Epoch 188/200\n",
            "4/4 [==============================] - 0s 3ms/step - loss: 0.3365 - accuracy: 0.9094\n",
            "Epoch 189/200\n",
            "4/4 [==============================] - 0s 3ms/step - loss: 0.3656 - accuracy: 0.8967\n",
            "Epoch 190/200\n",
            "4/4 [==============================] - 0s 6ms/step - loss: 0.3554 - accuracy: 0.9146\n",
            "Epoch 191/200\n",
            "4/4 [==============================] - 0s 4ms/step - loss: 0.3308 - accuracy: 0.9131\n",
            "Epoch 192/200\n",
            "4/4 [==============================] - 0s 4ms/step - loss: 0.3583 - accuracy: 0.8769\n",
            "Epoch 193/200\n",
            "4/4 [==============================] - 0s 4ms/step - loss: 0.3554 - accuracy: 0.9248\n",
            "Epoch 194/200\n",
            "4/4 [==============================] - 0s 4ms/step - loss: 0.3755 - accuracy: 0.9183\n",
            "Epoch 195/200\n",
            "4/4 [==============================] - 0s 4ms/step - loss: 0.3702 - accuracy: 0.9010\n",
            "Epoch 196/200\n",
            "4/4 [==============================] - 0s 4ms/step - loss: 0.3755 - accuracy: 0.8421\n",
            "Epoch 197/200\n",
            "4/4 [==============================] - 0s 4ms/step - loss: 0.3588 - accuracy: 0.9060\n",
            "Epoch 198/200\n",
            "4/4 [==============================] - 0s 3ms/step - loss: 0.3665 - accuracy: 0.8719\n",
            "Epoch 199/200\n",
            "4/4 [==============================] - 0s 4ms/step - loss: 0.3355 - accuracy: 0.9117\n",
            "Epoch 200/200\n",
            "4/4 [==============================] - 0s 3ms/step - loss: 0.3313 - accuracy: 0.9667\n"
          ],
          "name": "stdout"
        }
      ]
    },
    {
      "cell_type": "code",
      "metadata": {
        "colab": {
          "base_uri": "https://localhost:8080/"
        },
        "id": "vpICBeUK6tfe",
        "outputId": "48d32c17-3366-4f6c-a8aa-cf32a19a773e"
      },
      "source": [
        "results = model.evaluate(test_x, test_y)\n",
        "\n",
        "print('Final test set loss: {:4f}'.format(results[0]))\n",
        "print('Final test set accuracy: {:4f}'.format(results[1]))"
      ],
      "execution_count": 86,
      "outputs": [
        {
          "output_type": "stream",
          "text": [
            "WARNING:tensorflow:5 out of the last 205 calls to <function Model.make_test_function.<locals>.test_function at 0x7f097c0aa8c0> triggered tf.function retracing. Tracing is expensive and the excessive number of tracings could be due to (1) creating @tf.function repeatedly in a loop, (2) passing tensors with different shapes, (3) passing Python objects instead of tensors. For (1), please define your @tf.function outside of the loop. For (2), @tf.function has experimental_relax_shapes=True option that relaxes argument shapes that can avoid unnecessary retracing. For (3), please refer to https://www.tensorflow.org/guide/function#controlling_retracing and https://www.tensorflow.org/api_docs/python/tf/function for  more details.\n",
            "1/1 [==============================] - 0s 204ms/step - loss: 0.2572 - accuracy: 0.9333\n",
            "Final test set loss: 0.257177\n",
            "Final test set accuracy: 0.933333\n"
          ],
          "name": "stdout"
        }
      ]
    },
    {
      "cell_type": "code",
      "metadata": {
        "colab": {
          "base_uri": "https://localhost:8080/",
          "height": 545
        },
        "id": "1fOJKR5M8E2U",
        "outputId": "8aaa43ac-d034-4b9f-cd47-ad6bd9189a82"
      },
      "source": [
        "import matplotlib.pyplot as plt\n",
        "%matplotlib inline\n",
        "acc = history.history['accuracy']\n",
        "loss = history.history['loss']\n",
        "\n",
        "epochs = range(len(acc))\n",
        "\n",
        "plt.plot(epochs, acc, 'bo', label='Training acc')\n",
        "plt.title('Training accuracy')\n",
        "plt.legend()\n",
        "\n",
        "plt.figure()\n",
        "\n",
        "plt.plot(epochs, loss, 'bo', label='Training loss')\n",
        "plt.title('Training loss')\n",
        "plt.legend()\n",
        "\n",
        "plt.show()"
      ],
      "execution_count": 87,
      "outputs": [
        {
          "output_type": "display_data",
          "data": {
            "image/png": "[encoded data removed]",
            "text/plain": [
              "<Figure size 432x288 with 1 Axes>"
            ]
          },
          "metadata": {
            "tags": [],
            "needs_background": "light"
          }
        },
        {
          "output_type": "display_data",
          "data": {
            "image/png": "[encoded data removed]",
            "text/plain": [
              "<Figure size 432x288 with 1 Axes>"
            ]
          },
          "metadata": {
            "tags": [],
            "needs_background": "light"
          }
        }
      ]
    },
    {
      "cell_type": "code",
      "metadata": {
        "id": "Qie-c8qX-wm6"
      },
      "source": [
        ""
      ],
      "execution_count": null,
      "outputs": []
    }
  ]
}